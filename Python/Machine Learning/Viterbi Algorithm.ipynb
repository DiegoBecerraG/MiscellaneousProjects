{
 "cells": [
  {
   "cell_type": "code",
   "execution_count": 24,
   "id": "44585732",
   "metadata": {},
   "outputs": [],
   "source": [
    "import numpy as np\n",
    "                # SS  SR     RS    RR\n",
    "trp = np.array([[0.8, 0.2], [0.4, 0.6]])\n",
    "emp = np.array([[0.8, 0.2], [0.4, 0.6]]) # Coincedentally the same\n",
    "\n",
    "prob_sun = 2/3\n",
    "prob_rain = 1/3\n",
    "\n",
    "play_golf = ['Y', 'Y', 'N', 'N', 'N', 'Y']\n",
    "prob = []\n",
    "weather = []"
   ]
  },
  {
   "cell_type": "code",
   "execution_count": 25,
   "id": "7afa51bb",
   "metadata": {},
   "outputs": [
    {
     "name": "stdout",
     "output_type": "stream",
     "text": [
      "(0.5333333333333333, 0.13333333333333333)\n",
      "(0.5333333333333333, 0.13333333333333333)\n"
     ]
    }
   ],
   "source": [
    "if play_golf[0] == 'Y':\n",
    "    prob.append((prob_sun*emp[0,0], prob_rain*emp[1,0])) # Sunny/Rain Yes Play\n",
    "else:\n",
    "    prob.append((prob_sun*emp[0,1], prob_rain*emp[1,1])) # Sunny/Rain No Play\n",
    "\n",
    "print(prob[0])\n",
    "print(prob[-1])"
   ]
  },
  {
   "cell_type": "code",
   "execution_count": 26,
   "id": "77d15f21",
   "metadata": {},
   "outputs": [],
   "source": [
    "for i in range(1,len(play_golf)):\n",
    "    yest_sun, yest_rain = prob[-1] # z_t-1\n",
    "    if play_golf[i] == 'Y':\n",
    "        today_sun = max(yest_sun*trp[0,0]*emp[0,0], yest_rain*trp[1,0]*emp[0,0])\n",
    "        today_rain = max(yest_sun*trp[0,1]*emp[1,0], yest_rain*trp[1,1]*emp[1,0])\n",
    "        prob.append((today_sun, today_rain))\n",
    "    else:\n",
    "        today_sun = max(yest_sun*trp[0,0]*emp[0,1], yest_rain*trp[1,0]*emp[0,1])\n",
    "        today_rain = max(yest_sun*trp[0,1]*emp[1,1], yest_rain*trp[1,1]*emp[1,1])\n",
    "        prob.append((today_sun, today_rain))\n"
   ]
  },
  {
   "cell_type": "code",
   "execution_count": 27,
   "id": "9a6aabcb",
   "metadata": {},
   "outputs": [],
   "source": [
    "for p in prob:\n",
    "    if p[0] > p[1]:\n",
    "        weather.append('S')\n",
    "    else:\n",
    "        weather.append('R')"
   ]
  },
  {
   "cell_type": "code",
   "execution_count": 28,
   "id": "6f9ae4d9",
   "metadata": {},
   "outputs": [
    {
     "data": {
      "text/plain": [
       "['S', 'S', 'S', 'R', 'R', 'S']"
      ]
     },
     "execution_count": 28,
     "metadata": {},
     "output_type": "execute_result"
    }
   ],
   "source": [
    "weather"
   ]
  },
  {
   "cell_type": "code",
   "execution_count": null,
   "id": "5a4fba6f",
   "metadata": {},
   "outputs": [],
   "source": []
  }
 ],
 "metadata": {
  "kernelspec": {
   "display_name": "Python 3 (ipykernel)",
   "language": "python",
   "name": "python3"
  },
  "language_info": {
   "codemirror_mode": {
    "name": "ipython",
    "version": 3
   },
   "file_extension": ".py",
   "mimetype": "text/x-python",
   "name": "python",
   "nbconvert_exporter": "python",
   "pygments_lexer": "ipython3",
   "version": "3.11.5"
  }
 },
 "nbformat": 4,
 "nbformat_minor": 5
}
