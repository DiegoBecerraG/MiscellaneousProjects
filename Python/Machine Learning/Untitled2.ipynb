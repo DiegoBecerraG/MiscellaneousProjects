{
 "cells": [
  {
   "cell_type": "code",
   "execution_count": 1,
   "id": "5082342c",
   "metadata": {},
   "outputs": [],
   "source": [
    "import pandas as pd"
   ]
  },
  {
   "cell_type": "code",
   "execution_count": 2,
   "id": "cbf5ea77",
   "metadata": {},
   "outputs": [],
   "source": [
    "url = \"https://docs.google.com/document/d/e/2PACX-1vQGUck9HIFCyezsrBSnmENk5ieJuYwpt7YHYEzeNJkIb9OSDdx-ov2nRNReKQyey-cwJOoEKUhLmN9z/pub\""
   ]
  },
  {
   "cell_type": "code",
   "execution_count": 43,
   "id": "995eee1c",
   "metadata": {},
   "outputs": [],
   "source": [
    "import pandas as pd\n",
    "\n",
    "url = \"https://docs.google.com/document/d/e/2PACX-1vQGUck9HIFCyezsrBSnmENk5ieJuYwpt7YHYEzeNJkIb9OSDdx-ov2nRNReKQyey-cwJOoEKUhLmN9z/pub\"\n",
    "def print_grid(url):\n",
    "    df = pd.read_html(url, encoding='utf-8', header=0)[0]\n",
    "    \n",
    "    print(\"Raw Document:\")\n",
    "    print(df.head())\n",
    "\n",
    "    grid = []\n",
    "    for i in range(len(df)):\n",
    "        row = df.iloc[i]\n",
    "        x = int(row['x-coordinate'])\n",
    "        char = row['Character']\n",
    "        y = int(row['y-coordinate'])\n",
    "        grid.append((x, char, y))\n",
    "\n",
    "    max_x = df[\"x-coordinate\"].max()\n",
    "    max_y = df[\"y-coordinate\"].max()\n",
    "\n",
    "    output = []\n",
    "    for i in range(max_y + 1):\n",
    "        row = [\" \"] * (max_x + 1)\n",
    "        output.append(row)\n",
    "\n",
    "    for x, char, y in grid:\n",
    "        output[y][x] = char\n",
    "\n",
    "    for i in output:\n",
    "        row = \"\"\n",
    "        for j in i:\n",
    "          row += j\n",
    "        print(row)"
   ]
  },
  {
   "cell_type": "code",
   "execution_count": 44,
   "id": "73f5ad76",
   "metadata": {},
   "outputs": [
    {
     "name": "stdout",
     "output_type": "stream",
     "text": [
      "Raw Document:\n",
      "   x-coordinate Character  y-coordinate\n",
      "0            93         ░             5\n",
      "1             2         ░             5\n",
      "2             8         ░             0\n",
      "3            39         █             1\n",
      "4            64         ░             0\n",
      "████████░     ████████░   ██████████░    ███████░     ██░     ██░     ███░    ███░ ██░     ██░\n",
      "██░     ██░ ███░     ███░ ██░          ███░    ██░   ████░   ████░      ██░  ██░   ██░     ██░\n",
      "██░     ██░ ██░       ██░ ██░         ███░           ██░██░ ██░██░       ██░██░    ██░     ██░\n",
      "████████░   ██░       ██░ ████████░   ██░           ███░ ██░██░ ██░       ███░     ██████████░\n",
      "██░     ██░ ██░       ██░ ██░         ███░          ██░  █████░ ███░     ██░██░    ██░     ██░\n",
      "██░     ██░ ███░     ███░ ██░          ███░    ██░ ███░   ███░   ██░    ██░  ██░   ██░     ██░\n",
      "████████░     ████████░   ██████████░    ███████░  ██░           ███░ ███░    ███░ ██░     ██░\n"
     ]
    }
   ],
   "source": [
    "print_grid(url)"
   ]
  },
  {
   "cell_type": "code",
   "execution_count": null,
   "id": "c35d39b2",
   "metadata": {},
   "outputs": [],
   "source": []
  }
 ],
 "metadata": {
  "kernelspec": {
   "display_name": "Python 3 (ipykernel)",
   "language": "python",
   "name": "python3"
  },
  "language_info": {
   "codemirror_mode": {
    "name": "ipython",
    "version": 3
   },
   "file_extension": ".py",
   "mimetype": "text/x-python",
   "name": "python",
   "nbconvert_exporter": "python",
   "pygments_lexer": "ipython3",
   "version": "3.11.5"
  }
 },
 "nbformat": 4,
 "nbformat_minor": 5
}
