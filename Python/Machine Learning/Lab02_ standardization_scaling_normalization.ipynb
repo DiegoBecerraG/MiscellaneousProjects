{
 "cells": [
  {
   "cell_type": "markdown",
   "id": "3b1018f0",
   "metadata": {},
   "source": [
    "### Standardization (Z-score normalization):\n",
    "\n",
    "In standardization, also known as Z-score normalization, each feature is scaled such that it has a mean of 0 and a standard deviation of 1.\n",
    "\n",
    "\n",
    "$$z := \\frac {X-\\mu} {\\sigma}$$ \n",
    "\n",
    "where X is the original value,  μ is the mean, and σ is the standard deviation\n",
    "\n",
    "This is useful when features have different scales and you want to bring them to a common scale."
   ]
  },
  {
   "cell_type": "code",
   "execution_count": 2,
   "id": "2b579784",
   "metadata": {},
   "outputs": [
    {
     "name": "stdout",
     "output_type": "stream",
     "text": [
      "Original Data:\n",
      "   total_spent  sales\n",
      "0        337.1   22.1\n",
      "1        128.9   10.4\n",
      "2        132.4    9.3\n",
      "3        251.3   18.5\n",
      "4        250.0   12.9\n",
      "\n",
      "Standardized Data:\n",
      "   total_spent\n",
      "0     1.474555\n",
      "1    -1.145814\n",
      "2    -1.101763\n",
      "3     0.394692\n",
      "4     0.378330\n"
     ]
    }
   ],
   "source": [
    "from sklearn.preprocessing import StandardScaler\n",
    "import pandas as pd\n",
    "\n",
    "# Create DataFrame\n",
    "data = {'total_spent': [337.1, 128.9, 132.4, 251.3, 250.],\n",
    "        'sales': [22.1, 10.4, 9.3, 18.5, 12.9]}\n",
    "df = pd.DataFrame(data)\n",
    "\n",
    "# Extract features\n",
    "X = df[['total_spent']]\n",
    "\n",
    "# Standardization\n",
    "scaler_standard = StandardScaler()\n",
    "X_standardized = scaler_standard.fit_transform(X)\n",
    "\n",
    "# Display the results\n",
    "print(\"Original Data:\")\n",
    "print(df)\n",
    "print(\"\\nStandardized Data:\")\n",
    "print(pd.DataFrame(X_standardized, columns=['total_spent']))"
   ]
  },
  {
   "cell_type": "markdown",
   "id": "186a2a34",
   "metadata": {},
   "source": [
    "### Scaling:\n",
    "\n",
    "Scaling refers to the process of transforming the values of features to a specific range. The range can vary, and common scaling methods include Min-Max scaling.\n",
    "Min-Max scaling transforms features to a specified range, often [0, 1].\n",
    "\n",
    "The formula for Min-Max scaling is: $X_{scaled} := \\frac {X-{min(X)}} {\\max(X)-min(X)} $"
   ]
  },
  {
   "cell_type": "code",
   "execution_count": 3,
   "id": "d41a4317",
   "metadata": {},
   "outputs": [
    {
     "name": "stdout",
     "output_type": "stream",
     "text": [
      "Original Data:\n",
      "   total_spent  sales\n",
      "0        337.1   22.1\n",
      "1        128.9   10.4\n",
      "2        132.4    9.3\n",
      "3        251.3   18.5\n",
      "4        250.0   12.9\n",
      "\n",
      "Min-Max Scaled Data:\n",
      "   total_spent\n",
      "0     1.000000\n",
      "1     0.000000\n",
      "2     0.016811\n",
      "3     0.587896\n",
      "4     0.581652\n"
     ]
    }
   ],
   "source": [
    "from sklearn.preprocessing import MinMaxScaler\n",
    "\n",
    "# Create DataFrame\n",
    "data = {'total_spent': [337.1, 128.9, 132.4, 251.3, 250.],\n",
    "        'sales': [22.1, 10.4, 9.3, 18.5, 12.9]}\n",
    "df = pd.DataFrame(data)\n",
    "\n",
    "# Extract features\n",
    "X = df[['total_spent']]\n",
    "\n",
    "# Min-Max scaling\n",
    "scaler_minmax = MinMaxScaler()\n",
    "X_minmax = scaler_minmax.fit_transform(X)\n",
    "\n",
    "# Display the results\n",
    "print(\"Original Data:\")\n",
    "print(df)\n",
    "print(\"\\nMin-Max Scaled Data:\")\n",
    "print(pd.DataFrame(X_minmax, columns=['total_spent']))"
   ]
  },
  {
   "cell_type": "markdown",
   "id": "c1596569",
   "metadata": {},
   "source": [
    "### Normalization:\n",
    "\n",
    "Normalization is a broader term that can encompass various techniques to scale or transform features. Min-Max scaling is one form of normalization.\n",
    "In a more general sense, normalization can also refer to transforming features to have a unit norm (e.g., L1 or L2 normalization).\n",
    "\n",
    "L1 normalization scales features such that the sum of the absolute values is 1: $X_{Normalized} := \\frac {X} {\\sum|X|} $\n",
    "\n",
    "\n",
    "L2 normalization scales features such that the Euclidean norm (magnitude) is 1: $X_{Normalized} := \\frac {X} {\\sqrt\\sum|X^2|} $"
   ]
  },
  {
   "cell_type": "code",
   "execution_count": 4,
   "id": "12ede9c0",
   "metadata": {},
   "outputs": [
    {
     "name": "stdout",
     "output_type": "stream",
     "text": [
      "Original Data:\n",
      "   total_spent  sales\n",
      "0        337.1   22.1\n",
      "1        128.9   10.4\n",
      "2        132.4    9.3\n",
      "3        251.3   18.5\n",
      "4        250.0   12.9\n",
      "\n",
      "L1 Normalized Data:\n",
      "   total_spent\n",
      "0          1.0\n",
      "1          1.0\n",
      "2          1.0\n",
      "3          1.0\n",
      "4          1.0\n",
      "\n",
      "L2 Normalized Data:\n",
      "   total_spent\n",
      "0          1.0\n",
      "1          1.0\n",
      "2          1.0\n",
      "3          1.0\n",
      "4          1.0\n"
     ]
    }
   ],
   "source": [
    "from sklearn.preprocessing import normalize\n",
    "\n",
    "# Create DataFrame\n",
    "data = {'total_spent': [337.1, 128.9, 132.4, 251.3, 250.],\n",
    "        'sales': [22.1, 10.4, 9.3, 18.5, 12.9]}\n",
    "df = pd.DataFrame(data)\n",
    "\n",
    "# Extract features\n",
    "X = df[['total_spent']]\n",
    "\n",
    "# L1 normalization\n",
    "X_normalized_l1 = normalize(X, norm='l1')\n",
    "\n",
    "# L2 normalization\n",
    "X_normalized_l2 = normalize(X, norm='l2')\n",
    "\n",
    "# Display the results\n",
    "print(\"Original Data:\")\n",
    "print(df)\n",
    "print(\"\\nL1 Normalized Data:\")\n",
    "print(pd.DataFrame(X_normalized_l1, columns=['total_spent']))\n",
    "print(\"\\nL2 Normalized Data:\")\n",
    "print(pd.DataFrame(X_normalized_l2, columns=['total_spent']))"
   ]
  },
  {
   "cell_type": "code",
   "execution_count": null,
   "id": "52f789fc",
   "metadata": {},
   "outputs": [],
   "source": []
  }
 ],
 "metadata": {
  "kernelspec": {
   "display_name": "Python 3 (ipykernel)",
   "language": "python",
   "name": "python3"
  },
  "language_info": {
   "codemirror_mode": {
    "name": "ipython",
    "version": 3
   },
   "file_extension": ".py",
   "mimetype": "text/x-python",
   "name": "python",
   "nbconvert_exporter": "python",
   "pygments_lexer": "ipython3",
   "version": "3.11.5"
  }
 },
 "nbformat": 4,
 "nbformat_minor": 5
}
