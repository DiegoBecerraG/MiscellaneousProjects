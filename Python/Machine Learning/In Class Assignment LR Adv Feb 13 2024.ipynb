{
 "cells": [
  {
   "cell_type": "code",
   "execution_count": 9,
   "id": "37c7c0d4",
   "metadata": {},
   "outputs": [],
   "source": [
    "import pandas as pd\n",
    "import numpy as np\n",
    "import seaborn as sns\n",
    "from LinearRegression import LinearRegression"
   ]
  },
  {
   "cell_type": "code",
   "execution_count": 10,
   "id": "46bc4a96",
   "metadata": {},
   "outputs": [],
   "source": [
    "# initially we run this cell; \n",
    "# and each time we make a change we make a change to LinearRegression.py\n",
    "# we run this cell again\n",
    "%run LinearRegression.py"
   ]
  },
  {
   "cell_type": "code",
   "execution_count": 11,
   "id": "cfe10f8d",
   "metadata": {},
   "outputs": [],
   "source": [
    "df = pd.read_csv('Advertising.csv')"
   ]
  },
  {
   "cell_type": "code",
   "execution_count": 12,
   "id": "63f2f6aa",
   "metadata": {},
   "outputs": [
    {
     "data": {
      "text/html": [
       "<div>\n",
       "<style scoped>\n",
       "    .dataframe tbody tr th:only-of-type {\n",
       "        vertical-align: middle;\n",
       "    }\n",
       "\n",
       "    .dataframe tbody tr th {\n",
       "        vertical-align: top;\n",
       "    }\n",
       "\n",
       "    .dataframe thead th {\n",
       "        text-align: right;\n",
       "    }\n",
       "</style>\n",
       "<table border=\"1\" class=\"dataframe\">\n",
       "  <thead>\n",
       "    <tr style=\"text-align: right;\">\n",
       "      <th></th>\n",
       "      <th>TV</th>\n",
       "      <th>radio</th>\n",
       "      <th>newspaper</th>\n",
       "      <th>Total spent</th>\n",
       "      <th>sales</th>\n",
       "    </tr>\n",
       "  </thead>\n",
       "  <tbody>\n",
       "    <tr>\n",
       "      <th>0</th>\n",
       "      <td>230.1</td>\n",
       "      <td>37.8</td>\n",
       "      <td>69.2</td>\n",
       "      <td>337.1</td>\n",
       "      <td>22.1</td>\n",
       "    </tr>\n",
       "    <tr>\n",
       "      <th>1</th>\n",
       "      <td>44.5</td>\n",
       "      <td>39.3</td>\n",
       "      <td>45.1</td>\n",
       "      <td>128.9</td>\n",
       "      <td>10.4</td>\n",
       "    </tr>\n",
       "    <tr>\n",
       "      <th>2</th>\n",
       "      <td>17.2</td>\n",
       "      <td>45.9</td>\n",
       "      <td>69.3</td>\n",
       "      <td>132.4</td>\n",
       "      <td>9.3</td>\n",
       "    </tr>\n",
       "    <tr>\n",
       "      <th>3</th>\n",
       "      <td>151.5</td>\n",
       "      <td>41.3</td>\n",
       "      <td>58.5</td>\n",
       "      <td>251.3</td>\n",
       "      <td>18.5</td>\n",
       "    </tr>\n",
       "    <tr>\n",
       "      <th>4</th>\n",
       "      <td>180.8</td>\n",
       "      <td>10.8</td>\n",
       "      <td>58.4</td>\n",
       "      <td>250.0</td>\n",
       "      <td>12.9</td>\n",
       "    </tr>\n",
       "    <tr>\n",
       "      <th>5</th>\n",
       "      <td>8.7</td>\n",
       "      <td>48.9</td>\n",
       "      <td>75.0</td>\n",
       "      <td>132.6</td>\n",
       "      <td>7.2</td>\n",
       "    </tr>\n",
       "    <tr>\n",
       "      <th>6</th>\n",
       "      <td>57.5</td>\n",
       "      <td>32.8</td>\n",
       "      <td>23.5</td>\n",
       "      <td>113.8</td>\n",
       "      <td>11.8</td>\n",
       "    </tr>\n",
       "    <tr>\n",
       "      <th>7</th>\n",
       "      <td>120.2</td>\n",
       "      <td>19.6</td>\n",
       "      <td>11.6</td>\n",
       "      <td>151.4</td>\n",
       "      <td>13.2</td>\n",
       "    </tr>\n",
       "    <tr>\n",
       "      <th>8</th>\n",
       "      <td>8.6</td>\n",
       "      <td>2.1</td>\n",
       "      <td>1.0</td>\n",
       "      <td>11.7</td>\n",
       "      <td>4.8</td>\n",
       "    </tr>\n",
       "    <tr>\n",
       "      <th>9</th>\n",
       "      <td>199.8</td>\n",
       "      <td>2.6</td>\n",
       "      <td>21.2</td>\n",
       "      <td>223.6</td>\n",
       "      <td>10.6</td>\n",
       "    </tr>\n",
       "  </tbody>\n",
       "</table>\n",
       "</div>"
      ],
      "text/plain": [
       "      TV  radio  newspaper  Total spent  sales\n",
       "0  230.1   37.8       69.2        337.1   22.1\n",
       "1   44.5   39.3       45.1        128.9   10.4\n",
       "2   17.2   45.9       69.3        132.4    9.3\n",
       "3  151.5   41.3       58.5        251.3   18.5\n",
       "4  180.8   10.8       58.4        250.0   12.9\n",
       "5    8.7   48.9       75.0        132.6    7.2\n",
       "6   57.5   32.8       23.5        113.8   11.8\n",
       "7  120.2   19.6       11.6        151.4   13.2\n",
       "8    8.6    2.1        1.0         11.7    4.8\n",
       "9  199.8    2.6       21.2        223.6   10.6"
      ]
     },
     "execution_count": 12,
     "metadata": {},
     "output_type": "execute_result"
    }
   ],
   "source": [
    "df.head(10)"
   ]
  },
  {
   "cell_type": "markdown",
   "id": "c53f4957",
   "metadata": {},
   "source": [
    "# 1. Compute Cost With Multiple Variables\n",
    "The equation for the cost function with multiple variables $J(\\mathbf{w},b)$ is:\n",
    "$$J(\\mathbf{w},b) = \\frac{1}{2m} \\sum\\limits_{i = 0}^{m-1} (f_{\\mathbf{w},b}(\\mathbf{x}^{(i)}) - y^{(i)})^2 \\tag{1}$$ \n",
    "where:\n",
    "$$ f_{\\mathbf{w},b}(\\mathbf{x}^{(i)}) = \\mathbf{w} \\cdot \\mathbf{x}^{(i)} + b  \\tag{2} $$"
   ]
  },
  {
   "cell_type": "code",
   "execution_count": 13,
   "id": "ec3ae579",
   "metadata": {},
   "outputs": [],
   "source": [
    "# J is cost; function of w, b\n",
    "# w is bolded because it's a vector\n",
    "# b is intercept\n",
    "# i is superscript, not power (Represents a row)\n",
    "# x is number of features (it's bolded because there can be multiple x values)\n",
    "# Bottom equation is the equation for Prediction"
   ]
  },
  {
   "cell_type": "markdown",
   "id": "0046a27b",
   "metadata": {},
   "source": [
    "# 2. Gradient Descent With Multiple Variables\n",
    "Gradient descent for multiple variables:\n",
    "\n",
    "$$\\begin{align*} \\text{repeat}&\\text{ until convergence:} \\; \\lbrace \\newline\\;\n",
    "& w_j = w_j -  \\alpha \\frac{\\partial J(\\mathbf{w},b)}{\\partial w_j} \\tag{3}  \\; & \\text{for j = 0..n-1}\\newline\n",
    "&b\\ \\ = b -  \\alpha \\frac{\\partial J(\\mathbf{w},b)}{\\partial b}  \\newline \\rbrace\n",
    "\\end{align*}$$\n",
    "\n",
    "where, n is the number of features, parameters $w_j$,  $b$, are updated simultaneously and where  \n",
    "\n",
    "$$\n",
    "\\begin{align}\n",
    "\\frac{\\partial J(\\mathbf{w},b)}{\\partial w_j}  &= \\frac{1}{m} \\sum\\limits_{i = 0}^{m-1} (f_{\\mathbf{w},b}(\\mathbf{x}^{(i)}) - y^{(i)})x_{j}^{(i)} \\tag{4}  \\\\\n",
    "\\frac{\\partial J(\\mathbf{w},b)}{\\partial b}  &= \\frac{1}{m} \\sum\\limits_{i = 0}^{m-1} (f_{\\mathbf{w},b}(\\mathbf{x}^{(i)}) - y^{(i)}) \\tag{5}\n",
    "\\end{align}\n",
    "$$\n",
    "* m is the number of training examples in the data set\n",
    "\n",
    "    \n",
    "*  $f_{\\mathbf{w},b}(\\mathbf{x}^{(i)})$ is the model's prediction, while $y^{(i)}$ is the target value"
   ]
  },
  {
   "cell_type": "code",
   "execution_count": 14,
   "id": "df897844",
   "metadata": {},
   "outputs": [],
   "source": [
    "# Gradient Descent is given the learning rate\n",
    "# Learning rate is a hyper parameter we use; look for the one with the highest performance rate\n",
    "# alpha is learning rate\n",
    "# Subscript j represents the selected feature\n",
    "# b belongs to entire row"
   ]
  },
  {
   "cell_type": "markdown",
   "id": "788cab56",
   "metadata": {},
   "source": [
    "## 2.1 Compute Gradient with Multiple Variables\n",
    "An implementation for calculating the equations (4) and (5) is below. There are many ways to implement this. In this version, there is an\n",
    "- outer loop over all m examples. \n",
    "    - $\\frac{\\partial J(\\mathbf{w},b)}{\\partial b}$ for the example can be computed directly and accumulated\n",
    "    - in a second loop over all n features:\n",
    "        - $\\frac{\\partial J(\\mathbf{w},b)}{\\partial w_j}$ is computed for each $w_j$."
   ]
  },
  {
   "cell_type": "code",
   "execution_count": 15,
   "id": "49fc5367",
   "metadata": {},
   "outputs": [
    {
     "data": {
      "text/html": [
       "<div>\n",
       "<style scoped>\n",
       "    .dataframe tbody tr th:only-of-type {\n",
       "        vertical-align: middle;\n",
       "    }\n",
       "\n",
       "    .dataframe tbody tr th {\n",
       "        vertical-align: top;\n",
       "    }\n",
       "\n",
       "    .dataframe thead th {\n",
       "        text-align: right;\n",
       "    }\n",
       "</style>\n",
       "<table border=\"1\" class=\"dataframe\">\n",
       "  <thead>\n",
       "    <tr style=\"text-align: right;\">\n",
       "      <th></th>\n",
       "      <th>TV</th>\n",
       "      <th>radio</th>\n",
       "      <th>newspaper</th>\n",
       "      <th>Total spent</th>\n",
       "      <th>sales</th>\n",
       "    </tr>\n",
       "  </thead>\n",
       "  <tbody>\n",
       "    <tr>\n",
       "      <th>count</th>\n",
       "      <td>200.000000</td>\n",
       "      <td>200.000000</td>\n",
       "      <td>200.000000</td>\n",
       "      <td>200.000000</td>\n",
       "      <td>200.000000</td>\n",
       "    </tr>\n",
       "    <tr>\n",
       "      <th>mean</th>\n",
       "      <td>147.042500</td>\n",
       "      <td>23.264000</td>\n",
       "      <td>30.554000</td>\n",
       "      <td>200.860500</td>\n",
       "      <td>14.022500</td>\n",
       "    </tr>\n",
       "    <tr>\n",
       "      <th>std</th>\n",
       "      <td>85.854236</td>\n",
       "      <td>14.846809</td>\n",
       "      <td>21.778621</td>\n",
       "      <td>92.985181</td>\n",
       "      <td>5.217457</td>\n",
       "    </tr>\n",
       "    <tr>\n",
       "      <th>min</th>\n",
       "      <td>0.700000</td>\n",
       "      <td>0.000000</td>\n",
       "      <td>0.300000</td>\n",
       "      <td>11.700000</td>\n",
       "      <td>1.600000</td>\n",
       "    </tr>\n",
       "    <tr>\n",
       "      <th>25%</th>\n",
       "      <td>74.375000</td>\n",
       "      <td>9.975000</td>\n",
       "      <td>12.750000</td>\n",
       "      <td>123.550000</td>\n",
       "      <td>10.375000</td>\n",
       "    </tr>\n",
       "    <tr>\n",
       "      <th>50%</th>\n",
       "      <td>149.750000</td>\n",
       "      <td>22.900000</td>\n",
       "      <td>25.750000</td>\n",
       "      <td>207.350000</td>\n",
       "      <td>12.900000</td>\n",
       "    </tr>\n",
       "    <tr>\n",
       "      <th>75%</th>\n",
       "      <td>218.825000</td>\n",
       "      <td>36.525000</td>\n",
       "      <td>45.100000</td>\n",
       "      <td>281.125000</td>\n",
       "      <td>17.400000</td>\n",
       "    </tr>\n",
       "    <tr>\n",
       "      <th>max</th>\n",
       "      <td>296.400000</td>\n",
       "      <td>49.600000</td>\n",
       "      <td>114.000000</td>\n",
       "      <td>433.600000</td>\n",
       "      <td>27.000000</td>\n",
       "    </tr>\n",
       "  </tbody>\n",
       "</table>\n",
       "</div>"
      ],
      "text/plain": [
       "               TV       radio   newspaper  Total spent       sales\n",
       "count  200.000000  200.000000  200.000000   200.000000  200.000000\n",
       "mean   147.042500   23.264000   30.554000   200.860500   14.022500\n",
       "std     85.854236   14.846809   21.778621    92.985181    5.217457\n",
       "min      0.700000    0.000000    0.300000    11.700000    1.600000\n",
       "25%     74.375000    9.975000   12.750000   123.550000   10.375000\n",
       "50%    149.750000   22.900000   25.750000   207.350000   12.900000\n",
       "75%    218.825000   36.525000   45.100000   281.125000   17.400000\n",
       "max    296.400000   49.600000  114.000000   433.600000   27.000000"
      ]
     },
     "execution_count": 15,
     "metadata": {},
     "output_type": "execute_result"
    }
   ],
   "source": [
    "df.describe()"
   ]
  },
  {
   "cell_type": "code",
   "execution_count": 18,
   "id": "179b2ae1",
   "metadata": {},
   "outputs": [],
   "source": [
    "X = df['Total spent'].apply(lambda x:[x]).tolist()\n",
    "#X\n",
    "X = np.array(X)"
   ]
  },
  {
   "cell_type": "code",
   "execution_count": 19,
   "id": "9c7d931e",
   "metadata": {},
   "outputs": [],
   "source": [
    "y = df['sales']\n",
    "y = np.array(y)"
   ]
  },
  {
   "cell_type": "code",
   "execution_count": 20,
   "id": "1a0ec692",
   "metadata": {},
   "outputs": [
    {
     "data": {
      "text/plain": [
       "(1,)"
      ]
     },
     "execution_count": 20,
     "metadata": {},
     "output_type": "execute_result"
    }
   ],
   "source": [
    "b = 4.243\n",
    "w = np.array([0.0487])\n",
    "w.shape"
   ]
  },
  {
   "cell_type": "code",
   "execution_count": 21,
   "id": "0def1339",
   "metadata": {},
   "outputs": [
    {
     "data": {
      "text/html": [
       "<div>\n",
       "<style scoped>\n",
       "    .dataframe tbody tr th:only-of-type {\n",
       "        vertical-align: middle;\n",
       "    }\n",
       "\n",
       "    .dataframe tbody tr th {\n",
       "        vertical-align: top;\n",
       "    }\n",
       "\n",
       "    .dataframe thead th {\n",
       "        text-align: right;\n",
       "    }\n",
       "</style>\n",
       "<table border=\"1\" class=\"dataframe\">\n",
       "  <thead>\n",
       "    <tr style=\"text-align: right;\">\n",
       "      <th></th>\n",
       "      <th>TV</th>\n",
       "      <th>radio</th>\n",
       "      <th>newspaper</th>\n",
       "      <th>Total spent</th>\n",
       "      <th>sales</th>\n",
       "      <th>y_pred</th>\n",
       "    </tr>\n",
       "  </thead>\n",
       "  <tbody>\n",
       "    <tr>\n",
       "      <th>0</th>\n",
       "      <td>230.1</td>\n",
       "      <td>37.8</td>\n",
       "      <td>69.2</td>\n",
       "      <td>337.1</td>\n",
       "      <td>22.1</td>\n",
       "      <td>20.65977</td>\n",
       "    </tr>\n",
       "    <tr>\n",
       "      <th>1</th>\n",
       "      <td>44.5</td>\n",
       "      <td>39.3</td>\n",
       "      <td>45.1</td>\n",
       "      <td>128.9</td>\n",
       "      <td>10.4</td>\n",
       "      <td>10.52043</td>\n",
       "    </tr>\n",
       "    <tr>\n",
       "      <th>2</th>\n",
       "      <td>17.2</td>\n",
       "      <td>45.9</td>\n",
       "      <td>69.3</td>\n",
       "      <td>132.4</td>\n",
       "      <td>9.3</td>\n",
       "      <td>10.69088</td>\n",
       "    </tr>\n",
       "    <tr>\n",
       "      <th>3</th>\n",
       "      <td>151.5</td>\n",
       "      <td>41.3</td>\n",
       "      <td>58.5</td>\n",
       "      <td>251.3</td>\n",
       "      <td>18.5</td>\n",
       "      <td>16.48131</td>\n",
       "    </tr>\n",
       "    <tr>\n",
       "      <th>4</th>\n",
       "      <td>180.8</td>\n",
       "      <td>10.8</td>\n",
       "      <td>58.4</td>\n",
       "      <td>250.0</td>\n",
       "      <td>12.9</td>\n",
       "      <td>16.41800</td>\n",
       "    </tr>\n",
       "  </tbody>\n",
       "</table>\n",
       "</div>"
      ],
      "text/plain": [
       "      TV  radio  newspaper  Total spent  sales    y_pred\n",
       "0  230.1   37.8       69.2        337.1   22.1  20.65977\n",
       "1   44.5   39.3       45.1        128.9   10.4  10.52043\n",
       "2   17.2   45.9       69.3        132.4    9.3  10.69088\n",
       "3  151.5   41.3       58.5        251.3   18.5  16.48131\n",
       "4  180.8   10.8       58.4        250.0   12.9  16.41800"
      ]
     },
     "execution_count": 21,
     "metadata": {},
     "output_type": "execute_result"
    }
   ],
   "source": [
    "y_pred = np.dot(X, w) + b\n",
    "y_pred\n",
    "df['y_pred'] = y_pred\n",
    "df.head()"
   ]
  },
  {
   "cell_type": "code",
   "execution_count": 22,
   "id": "54e8202c",
   "metadata": {},
   "outputs": [
    {
     "data": {
      "text/plain": [
       "(200, 1)"
      ]
     },
     "execution_count": 22,
     "metadata": {},
     "output_type": "execute_result"
    }
   ],
   "source": [
    "X.shape"
   ]
  },
  {
   "cell_type": "code",
   "execution_count": 23,
   "id": "5f1defa9",
   "metadata": {},
   "outputs": [
    {
     "data": {
      "text/plain": [
       "3.34611346762725"
      ]
     },
     "execution_count": 23,
     "metadata": {},
     "output_type": "execute_result"
    }
   ],
   "source": [
    "n_samples = X.shape[0]\n",
    "cost = 1/(2*n_samples) * np.sum((y_pred - y) ** 2)\n",
    "cost"
   ]
  },
  {
   "cell_type": "code",
   "execution_count": 24,
   "id": "19b3b8ec",
   "metadata": {},
   "outputs": [
    {
     "name": "stdout",
     "output_type": "stream",
     "text": [
      "Gradient Descent: cost 111.8581 num_iter 0 weights [32.354288] bias 14.012500000000001\n",
      "Gradient Descent: cost 25605754.0113 num_iter 1 weights [-15800.19870146] bias -6484.6859648240015\n",
      "Gradient Descent: cost 6130489440580.5791 num_iter 2 weights [7731131.17043836] bias 3173649.823775467\n",
      "Gradient Descent: cost 1467752406275906048.0000 num_iter 3 weights [-3.7828739e+09] bias -1552878858.4473338\n",
      "Gradient Descent: cost 351407036425628754640896.0000 num_iter 4 weights [1.85097559e+12] bias 759829943189.6824\n",
      "Gradient Descent: cost 84133335241984669288906096640.0000 num_iter 5 weights [-9.05689884e+14] bias -371787881959638.0\n",
      "Gradient Descent: cost 20143074455591457288897673478275072.0000 num_iter 6 weights [4.43157744e+17] bias 1.8191732296341277e+17\n",
      "Gradient Descent: cost 4822624080651265213525780572020102135808.0000 num_iter 7 weights [-2.16838887e+20] bias -8.901288611059977e+19\n",
      "Gradient Descent: cost 1154625281982285814829508914817924008207450112.0000 num_iter 8 weights [1.06100149e+23] bias 4.355436725139223e+22\n",
      "Gradient Descent: cost 276438619203476912904327828401871033413456915070976.0000 num_iter 9 weights [-5.19152347e+25] bias -2.1311329062087924e+25\n",
      "cost 276438619203476912904327828401871033413456915070976.0000 num_iter 9 weights [-5.19152347e+25] bias -2.1311329062087924e+25\n"
     ]
    }
   ],
   "source": [
    "lr = LinearRegression(0.01, 10, 1)\n",
    "lr.fit(X, y)"
   ]
  },
  {
   "cell_type": "code",
   "execution_count": 23,
   "id": "cc45c218",
   "metadata": {},
   "outputs": [
    {
     "name": "stdout",
     "output_type": "stream",
     "text": [
      "Gradient Descent: cost 111.8581 num_iter 0 weights [3.2354288] bias 14.021500000000001\n",
      "Gradient Descent: cost 254851.2679 num_iter 1 weights [-154.7131249] bias -635.8483464824\n",
      "Gradient Descent: cost 606284008.8012 num_iter 2 weights [7549.12989451] bias 31089.777123929827\n",
      "Gradient Descent: cost 1442356851574.5645 num_iter 3 weights [-368206.79849959] bias -1516307.9836765246\n",
      "Gradient Descent: cost 3431384092382286.0000 num_iter 4 weights [17959331.90233318] bias 73958215.67152676\n",
      "Gradient Descent: cost 8163303537794547712.0000 num_iter 5 weights [-8.75968484e+08] bias -3607320371.547094\n",
      "Gradient Descent: cost 19420596137325529923584.0000 num_iter 6 weights [4.27254639e+10] bias 175947467655.5166\n",
      "Gradient Descent: cost 46201829024600482681716736.0000 num_iter 7 weights [-2.08393943e+12] bias -8581858043987.767\n",
      "Gradient Descent: cost 109914700358543076691231637504.0000 num_iter 8 weights [1.01644386e+14] bias 418581116681620.44\n",
      "Gradient Descent: cost 261488378489855196826018032648192.0000 num_iter 9 weights [-4.95771668e+15] bias -2.041634228208987e+16\n",
      "cost 261488378489855196826018032648192.0000 num_iter 9 weights [-4.95771668e+15] bias -2.041634228208987e+16\n"
     ]
    }
   ],
   "source": [
    "lr = LinearRegression(0.001, 10, 1)\n",
    "lr.fit(X, y)"
   ]
  },
  {
   "cell_type": "code",
   "execution_count": 24,
   "id": "0a3e401e",
   "metadata": {},
   "outputs": [
    {
     "name": "stdout",
     "output_type": "stream",
     "text": [
      "Gradient Descent: cost 111.8581 num_iter 0 weights [0.32354288] bias 14.022400000000001\n",
      "Gradient Descent: cost 2439.9522 num_iter 1 weights [-1.21824504] bias -50.964584648240006\n",
      "Gradient Descent: cost 54859.9870 num_iter 2 weights [6.09203513] bias 258.7197073568133\n",
      "Gradient Descent: cost 1235123.7748 num_iter 3 weights [-28.60034391] bias -1209.62682180916\n",
      "Gradient Descent: cost 27809340.2970 num_iter 4 weights [136.01265289] bias 5758.701778341374\n",
      "Gradient Descent: cost 626140780.6142 num_iter 5 weights [-645.08747089] bias -27305.54706664375\n",
      "Gradient Descent: cost 14097864948.7583 num_iter 6 weights [3061.26777947] bias 129586.6143462091\n",
      "Gradient Descent: cost 317420303846.5362 num_iter 7 weights [-14525.57104702] bias -614873.7544172539\n",
      "Gradient Descent: cost 7146872927991.7627 num_iter 8 weights [68924.83443416] bias 2917627.485689399\n",
      "Gradient Descent: cost 160915329067909.7188 num_iter 9 weights [-327051.40956812] bias -13844262.68446244\n",
      "cost 160915329067909.7188 num_iter 9 weights [-327051.40956812] bias -13844262.68446244\n"
     ]
    }
   ],
   "source": [
    "lr = LinearRegression(0.0001, 10, 1)\n",
    "lr.fit(X, y)"
   ]
  },
  {
   "cell_type": "code",
   "execution_count": 25,
   "id": "22561421",
   "metadata": {},
   "outputs": [
    {
     "name": "stdout",
     "output_type": "stream",
     "text": [
      "Gradient Descent: cost 111.8581 num_iter 0 weights [0.03235429] bias 14.022490000000001\n",
      "Gradient Descent: cost 25.6102 num_iter 1 weights [0.02070617] bias 7.523791535176\n",
      "Gradient Descent: cost 9.4511 num_iter 2 weights [0.02781289] bias 9.863438185319634\n",
      "Gradient Descent: cost 6.2394 num_iter 3 weights [0.02674158] bias 8.435979665290638\n",
      "Gradient Descent: cost 5.4410 num_iter 4 weights [0.02906186] bias 8.651161919434344\n",
      "Gradient Descent: cost 5.1116 num_iter 5 weights [0.0298142] bias 8.185109574847393\n",
      "Gradient Descent: cost 4.8898 num_iter 6 weights [0.03113439] bias 8.03399546539259\n",
      "Gradient Descent: cost 4.7067 num_iter 7 weights [0.03211191] bias 7.768820078348443\n",
      "Gradient Descent: cost 4.5473 num_iter 8 weights [0.03314358] bias 7.572475717768244\n",
      "Gradient Descent: cost 4.4069 num_iter 9 weights [0.03406465] bias 7.365253050602965\n",
      "cost 4.4069 num_iter 9 weights [0.03406465] bias 7.365253050602965\n"
     ]
    }
   ],
   "source": [
    "lr = LinearRegression(0.00001, 10, 1)\n",
    "lr.fit(X, y)"
   ]
  },
  {
   "cell_type": "code",
   "execution_count": 27,
   "id": "d58e6aad",
   "metadata": {},
   "outputs": [
    {
     "name": "stdout",
     "output_type": "stream",
     "text": [
      "cost inf num_iter 99 weights [-5.98948079e+267] bias -2.4586963119742486e+267\n"
     ]
    }
   ],
   "source": [
    "# Not working with iterations\n",
    "lr = LinearRegression(0.01, 100, 0)\n",
    "lr.fit(X, y)"
   ]
  },
  {
   "cell_type": "code",
   "execution_count": 30,
   "id": "75f4fd93",
   "metadata": {},
   "outputs": [],
   "source": [
    "X = df[['TV', 'radio', 'newspaper']].values\n",
    "#X\n",
    "# We will keep the same y"
   ]
  },
  {
   "cell_type": "code",
   "execution_count": 31,
   "id": "0e482d10",
   "metadata": {},
   "outputs": [
    {
     "name": "stdout",
     "output_type": "stream",
     "text": [
      "cost 42341498589290172711680801058506152805547376640.0000 num_iter 9 weights [-4.93259509e+23 -6.09118804e+22 -8.07395357e+22] bias -2.537418223078988e+23\n"
     ]
    }
   ],
   "source": [
    "lr = LinearRegression(0.01, 10, 0)\n",
    "lr.fit(X, y)"
   ]
  },
  {
   "cell_type": "code",
   "execution_count": 32,
   "id": "d1bc3116",
   "metadata": {},
   "outputs": [
    {
     "data": {
      "text/html": [
       "<div>\n",
       "<style scoped>\n",
       "    .dataframe tbody tr th:only-of-type {\n",
       "        vertical-align: middle;\n",
       "    }\n",
       "\n",
       "    .dataframe tbody tr th {\n",
       "        vertical-align: top;\n",
       "    }\n",
       "\n",
       "    .dataframe thead th {\n",
       "        text-align: right;\n",
       "    }\n",
       "</style>\n",
       "<table border=\"1\" class=\"dataframe\">\n",
       "  <thead>\n",
       "    <tr style=\"text-align: right;\">\n",
       "      <th></th>\n",
       "      <th>TV</th>\n",
       "      <th>radio</th>\n",
       "      <th>newspaper</th>\n",
       "      <th>Total spent</th>\n",
       "      <th>sales</th>\n",
       "      <th>y_pred</th>\n",
       "      <th>scaled_TV</th>\n",
       "    </tr>\n",
       "  </thead>\n",
       "  <tbody>\n",
       "    <tr>\n",
       "      <th>0</th>\n",
       "      <td>230.1</td>\n",
       "      <td>37.8</td>\n",
       "      <td>69.2</td>\n",
       "      <td>337.1</td>\n",
       "      <td>22.1</td>\n",
       "      <td>20.65977</td>\n",
       "      <td>0.967425</td>\n",
       "    </tr>\n",
       "    <tr>\n",
       "      <th>1</th>\n",
       "      <td>44.5</td>\n",
       "      <td>39.3</td>\n",
       "      <td>45.1</td>\n",
       "      <td>128.9</td>\n",
       "      <td>10.4</td>\n",
       "      <td>10.52043</td>\n",
       "      <td>-1.194379</td>\n",
       "    </tr>\n",
       "    <tr>\n",
       "      <th>2</th>\n",
       "      <td>17.2</td>\n",
       "      <td>45.9</td>\n",
       "      <td>69.3</td>\n",
       "      <td>132.4</td>\n",
       "      <td>9.3</td>\n",
       "      <td>10.69088</td>\n",
       "      <td>-1.512360</td>\n",
       "    </tr>\n",
       "    <tr>\n",
       "      <th>3</th>\n",
       "      <td>151.5</td>\n",
       "      <td>41.3</td>\n",
       "      <td>58.5</td>\n",
       "      <td>251.3</td>\n",
       "      <td>18.5</td>\n",
       "      <td>16.48131</td>\n",
       "      <td>0.051919</td>\n",
       "    </tr>\n",
       "    <tr>\n",
       "      <th>4</th>\n",
       "      <td>180.8</td>\n",
       "      <td>10.8</td>\n",
       "      <td>58.4</td>\n",
       "      <td>250.0</td>\n",
       "      <td>12.9</td>\n",
       "      <td>16.41800</td>\n",
       "      <td>0.393196</td>\n",
       "    </tr>\n",
       "  </tbody>\n",
       "</table>\n",
       "</div>"
      ],
      "text/plain": [
       "      TV  radio  newspaper  Total spent  sales    y_pred  scaled_TV\n",
       "0  230.1   37.8       69.2        337.1   22.1  20.65977   0.967425\n",
       "1   44.5   39.3       45.1        128.9   10.4  10.52043  -1.194379\n",
       "2   17.2   45.9       69.3        132.4    9.3  10.69088  -1.512360\n",
       "3  151.5   41.3       58.5        251.3   18.5  16.48131   0.051919\n",
       "4  180.8   10.8       58.4        250.0   12.9  16.41800   0.393196"
      ]
     },
     "execution_count": 32,
     "metadata": {},
     "output_type": "execute_result"
    }
   ],
   "source": [
    "# refer to Lab02_ standardization_scaling_normalization.ipynb\n",
    "df['scaled_TV'] = (df['TV'] - df['TV'].mean()) / df['TV'].std()\n",
    "df.head()"
   ]
  },
  {
   "cell_type": "code",
   "execution_count": 34,
   "id": "cd68f16e",
   "metadata": {},
   "outputs": [
    {
     "data": {
      "text/html": [
       "<div>\n",
       "<style scoped>\n",
       "    .dataframe tbody tr th:only-of-type {\n",
       "        vertical-align: middle;\n",
       "    }\n",
       "\n",
       "    .dataframe tbody tr th {\n",
       "        vertical-align: top;\n",
       "    }\n",
       "\n",
       "    .dataframe thead th {\n",
       "        text-align: right;\n",
       "    }\n",
       "</style>\n",
       "<table border=\"1\" class=\"dataframe\">\n",
       "  <thead>\n",
       "    <tr style=\"text-align: right;\">\n",
       "      <th></th>\n",
       "      <th>TV</th>\n",
       "      <th>radio</th>\n",
       "      <th>newspaper</th>\n",
       "      <th>Total spent</th>\n",
       "      <th>sales</th>\n",
       "      <th>y_pred</th>\n",
       "      <th>scaled_TV</th>\n",
       "      <th>scaled_radio</th>\n",
       "      <th>scaled_newspaper</th>\n",
       "    </tr>\n",
       "  </thead>\n",
       "  <tbody>\n",
       "    <tr>\n",
       "      <th>0</th>\n",
       "      <td>230.1</td>\n",
       "      <td>37.8</td>\n",
       "      <td>69.2</td>\n",
       "      <td>337.1</td>\n",
       "      <td>22.1</td>\n",
       "      <td>20.65977</td>\n",
       "      <td>0.967425</td>\n",
       "      <td>0.979066</td>\n",
       "      <td>1.774493</td>\n",
       "    </tr>\n",
       "    <tr>\n",
       "      <th>1</th>\n",
       "      <td>44.5</td>\n",
       "      <td>39.3</td>\n",
       "      <td>45.1</td>\n",
       "      <td>128.9</td>\n",
       "      <td>10.4</td>\n",
       "      <td>10.52043</td>\n",
       "      <td>-1.194379</td>\n",
       "      <td>1.080097</td>\n",
       "      <td>0.667903</td>\n",
       "    </tr>\n",
       "    <tr>\n",
       "      <th>2</th>\n",
       "      <td>17.2</td>\n",
       "      <td>45.9</td>\n",
       "      <td>69.3</td>\n",
       "      <td>132.4</td>\n",
       "      <td>9.3</td>\n",
       "      <td>10.69088</td>\n",
       "      <td>-1.512360</td>\n",
       "      <td>1.524637</td>\n",
       "      <td>1.779084</td>\n",
       "    </tr>\n",
       "    <tr>\n",
       "      <th>3</th>\n",
       "      <td>151.5</td>\n",
       "      <td>41.3</td>\n",
       "      <td>58.5</td>\n",
       "      <td>251.3</td>\n",
       "      <td>18.5</td>\n",
       "      <td>16.48131</td>\n",
       "      <td>0.051919</td>\n",
       "      <td>1.214806</td>\n",
       "      <td>1.283185</td>\n",
       "    </tr>\n",
       "    <tr>\n",
       "      <th>4</th>\n",
       "      <td>180.8</td>\n",
       "      <td>10.8</td>\n",
       "      <td>58.4</td>\n",
       "      <td>250.0</td>\n",
       "      <td>12.9</td>\n",
       "      <td>16.41800</td>\n",
       "      <td>0.393196</td>\n",
       "      <td>-0.839507</td>\n",
       "      <td>1.278593</td>\n",
       "    </tr>\n",
       "  </tbody>\n",
       "</table>\n",
       "</div>"
      ],
      "text/plain": [
       "      TV  radio  newspaper  Total spent  sales    y_pred  scaled_TV  \\\n",
       "0  230.1   37.8       69.2        337.1   22.1  20.65977   0.967425   \n",
       "1   44.5   39.3       45.1        128.9   10.4  10.52043  -1.194379   \n",
       "2   17.2   45.9       69.3        132.4    9.3  10.69088  -1.512360   \n",
       "3  151.5   41.3       58.5        251.3   18.5  16.48131   0.051919   \n",
       "4  180.8   10.8       58.4        250.0   12.9  16.41800   0.393196   \n",
       "\n",
       "   scaled_radio  scaled_newspaper  \n",
       "0      0.979066          1.774493  \n",
       "1      1.080097          0.667903  \n",
       "2      1.524637          1.779084  \n",
       "3      1.214806          1.283185  \n",
       "4     -0.839507          1.278593  "
      ]
     },
     "execution_count": 34,
     "metadata": {},
     "output_type": "execute_result"
    }
   ],
   "source": [
    "df['scaled_radio'] = (df['radio'] - df['radio'].mean()) / df['radio'].std()\n",
    "df['scaled_newspaper'] = (df['newspaper'] - df['newspaper'].mean()) / df['newspaper'].std()\n",
    "df.head()"
   ]
  },
  {
   "cell_type": "code",
   "execution_count": 36,
   "id": "baa3650a",
   "metadata": {},
   "outputs": [],
   "source": [
    "X = df.iloc[:, [6, 7, 8]].values\n",
    "# Keep the same y"
   ]
  },
  {
   "cell_type": "code",
   "execution_count": 37,
   "id": "2f792cb6",
   "metadata": {},
   "outputs": [
    {
     "name": "stdout",
     "output_type": "stream",
     "text": [
      "cost 1.3921 num_iter 999 weights [ 3.92889594  2.79684426 -0.02031832] bias 14.012500000000001\n"
     ]
    }
   ],
   "source": [
    "lr = LinearRegression(0.01, 1000, 0)\n",
    "lr.fit(X, y)"
   ]
  },
  {
   "cell_type": "code",
   "execution_count": 43,
   "id": "07a935b6",
   "metadata": {},
   "outputs": [
    {
     "name": "stdout",
     "output_type": "stream",
     "text": [
      "X[0]: [0.9674246  0.97906559 1.77449253]\n",
      "Gradient Descent: cost 1.3921 num_iter 999 weights [ 3.92889594  2.79684426 -0.02031832] bias 14.012500000000001\n",
      "Predicted Sales: 20.515649839549084 with scaled of TV 230.1, radio 37.8 and newspaper 69.2\n"
     ]
    }
   ],
   "source": [
    "print(f'X[0]: {X[0]}')\n",
    "predicted_sales = lr.predict(X[0])\n",
    "print(f'Predicted Sales: {predicted_sales} with scaled of TV 230.1, radio 37.8 and newspaper 69.2')"
   ]
  },
  {
   "cell_type": "code",
   "execution_count": null,
   "id": "4202bae0",
   "metadata": {},
   "outputs": [],
   "source": []
  }
 ],
 "metadata": {
  "kernelspec": {
   "display_name": "Python 3 (ipykernel)",
   "language": "python",
   "name": "python3"
  },
  "language_info": {
   "codemirror_mode": {
    "name": "ipython",
    "version": 3
   },
   "file_extension": ".py",
   "mimetype": "text/x-python",
   "name": "python",
   "nbconvert_exporter": "python",
   "pygments_lexer": "ipython3",
   "version": "3.11.5"
  }
 },
 "nbformat": 4,
 "nbformat_minor": 5
}
