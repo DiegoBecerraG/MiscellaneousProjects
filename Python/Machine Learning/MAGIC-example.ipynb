{
 "cells": [
  {
   "cell_type": "markdown",
   "id": "803a2da0",
   "metadata": {},
   "source": [
    "### Dataset:\n",
    "Dua, D. and Graff, C. (2019) UCI Machine Learning Repository. University of California, School of Information and Computer Science, Irvine, CA.\n",
    "http://archive.ics.uci.edu/ml"
   ]
  },
  {
   "cell_type": "code",
   "execution_count": 1,
   "id": "e93c0bff",
   "metadata": {},
   "outputs": [],
   "source": [
    "import pandas as pd\n",
    "import numpy as np\n",
    "import matplotlib.pyplot as plt\n",
    "%matplotlib inline"
   ]
  },
  {
   "cell_type": "code",
   "execution_count": null,
   "id": "7634ea2f",
   "metadata": {},
   "outputs": [],
   "source": []
  }
 ],
 "metadata": {
  "kernelspec": {
   "display_name": "Python 3 (ipykernel)",
   "language": "python",
   "name": "python3"
  },
  "language_info": {
   "codemirror_mode": {
    "name": "ipython",
    "version": 3
   },
   "file_extension": ".py",
   "mimetype": "text/x-python",
   "name": "python",
   "nbconvert_exporter": "python",
   "pygments_lexer": "ipython3",
   "version": "3.11.5"
  }
 },
 "nbformat": 4,
 "nbformat_minor": 5
}
