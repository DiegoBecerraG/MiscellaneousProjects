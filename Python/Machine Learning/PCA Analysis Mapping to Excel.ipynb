{
 "cells": [
  {
   "cell_type": "markdown",
   "id": "2b479587",
   "metadata": {},
   "source": [
    "### Principal Component Analysis"
   ]
  },
  {
   "cell_type": "code",
   "execution_count": 2,
   "id": "129eda21",
   "metadata": {},
   "outputs": [],
   "source": [
    "import numpy as np"
   ]
  },
  {
   "cell_type": "code",
   "execution_count": 15,
   "id": "d9f05e2c",
   "metadata": {},
   "outputs": [
    {
     "data": {
      "text/plain": [
       "array([[ 4,  8, 13,  7],\n",
       "       [11,  4,  5, 14]])"
      ]
     },
     "execution_count": 15,
     "metadata": {},
     "output_type": "execute_result"
    }
   ],
   "source": [
    "features = X = np.array([[4, 8, 13, 7], [11, 4, 5, 14]])\n",
    "X"
   ]
  },
  {
   "cell_type": "code",
   "execution_count": 16,
   "id": "470cb993",
   "metadata": {},
   "outputs": [
    {
     "data": {
      "text/plain": [
       "(2, 4)"
      ]
     },
     "execution_count": 16,
     "metadata": {},
     "output_type": "execute_result"
    }
   ],
   "source": [
    "X.shape"
   ]
  },
  {
   "cell_type": "code",
   "execution_count": 17,
   "id": "ec1bc692",
   "metadata": {},
   "outputs": [
    {
     "name": "stdout",
     "output_type": "stream",
     "text": [
      "8.0\n",
      "8.5\n"
     ]
    }
   ],
   "source": [
    "# 1. Calculate Mean:\n",
    "mean_x1 = np.mean(X[0])\n",
    "mean_x2 = np.mean(X[1])\n",
    "print(mean_x1)\n",
    "print(mean_x2)"
   ]
  },
  {
   "cell_type": "code",
   "execution_count": 18,
   "id": "0de1f1a8",
   "metadata": {},
   "outputs": [
    {
     "data": {
      "text/plain": [
       "14.0"
      ]
     },
     "execution_count": 18,
     "metadata": {},
     "output_type": "execute_result"
    }
   ],
   "source": [
    "Cov_x1x1 = 1/(X.shape[1] - 1) * (np.square(X[0][0] - mean_x1) + \n",
    "                                np.square(X[0][1] - mean_x1) +\n",
    "                                np.square(X[0][2] - mean_x1) + \n",
    "                                np.square(X[0][3] - mean_x1))\n",
    "Cov_x1x1"
   ]
  },
  {
   "cell_type": "code",
   "execution_count": 19,
   "id": "bc82c684",
   "metadata": {},
   "outputs": [
    {
     "data": {
      "text/plain": [
       "-11.0"
      ]
     },
     "execution_count": 19,
     "metadata": {},
     "output_type": "execute_result"
    }
   ],
   "source": [
    "Cov_x1x2 = 1/(X.shape[1] - 1) * ((X[0][0] - mean_x1) * (X[1][0] - mean_x2) +\n",
    "                                (X[0][1] - mean_x1) * (X[1][1] - mean_x2) +\n",
    "                                (X[0][2] - mean_x1) * (X[1][2] - mean_x2) +\n",
    "                                (X[0][3] - mean_x1) * (X[1][3] - mean_x2))\n",
    "Cov_x1x2"
   ]
  },
  {
   "cell_type": "code",
   "execution_count": 22,
   "id": "3b80bc3c",
   "metadata": {},
   "outputs": [
    {
     "data": {
      "text/plain": [
       "-11.0"
      ]
     },
     "execution_count": 22,
     "metadata": {},
     "output_type": "execute_result"
    }
   ],
   "source": [
    "Cov_x2x1 = 1/(X.shape[1] - 1) * ((X[1][0] - mean_x2) * (X[0][0] - mean_x1) +\n",
    "                                (X[1][1] - mean_x2) * (X[0][1] - mean_x1) +\n",
    "                                (X[1][2] - mean_x2) * (X[0][2] - mean_x1) +\n",
    "                                (X[1][3] - mean_x2) * (X[0][3] - mean_x1))\n",
    "Cov_x2x1"
   ]
  },
  {
   "cell_type": "code",
   "execution_count": 23,
   "id": "408aeea3",
   "metadata": {},
   "outputs": [
    {
     "data": {
      "text/plain": [
       "23.0"
      ]
     },
     "execution_count": 23,
     "metadata": {},
     "output_type": "execute_result"
    }
   ],
   "source": [
    "Cov_x2x2 = 1/(X.shape[1] - 1) * (np.square(X[1][0] - mean_x2) + \n",
    "                                np.square(X[1][1] - mean_x2) +\n",
    "                                np.square(X[1][2] - mean_x2) + \n",
    "                                np.square(X[1][3] - mean_x2))\n",
    "Cov_x2x2"
   ]
  },
  {
   "cell_type": "code",
   "execution_count": 24,
   "id": "16f11f30",
   "metadata": {},
   "outputs": [
    {
     "data": {
      "text/plain": [
       "array([[ 14., -11.],\n",
       "       [-11.,  23.]])"
      ]
     },
     "execution_count": 24,
     "metadata": {},
     "output_type": "execute_result"
    }
   ],
   "source": [
    "S = np.array([[Cov_x1x1, Cov_x1x2], [Cov_x2x1, Cov_x2x2]])\n",
    "S"
   ]
  },
  {
   "cell_type": "markdown",
   "id": "289647d9",
   "metadata": {},
   "source": [
    "### Calculate Eigenvalues of the Covarience matrix\n",
    "\n",
    "$I = \\begin{vmatrix} {1} & {0} \\\\ {0} & {1} \\end{vmatrix}$  \n",
    "\n",
    "$\\lambda I = \\begin{vmatrix} {\\lambda} & {0} \\\\ {0} & {\\lambda} \\end{vmatrix}$  \n",
    "\n",
    "$det(\\mathbf{S - \\lambda I}) = 0$  \n",
    "\n",
    "$\\begin{vmatrix} {14-\\lambda} & {-11} \\\\ {-11} & {23-\\lambda} \\end{vmatrix} = 0$  \n",
    "\n",
    "$\\mathbf{(14 - \\lambda)(23-\\lambda) - (-11)(-11)} = 0$  \n",
    "\n",
    "$\\lambda^{2} - 37 \\lambda + 201 = 0$  \n",
    "\n",
    "$\\lambda = (30.3849, 6.151)$ "
   ]
  },
  {
   "cell_type": "markdown",
   "id": "29bf5cb2",
   "metadata": {},
   "source": [
    "### Computation of Eigenvectors \n",
    "\n",
    "$\\mathbf{U} =  \\begin{bmatrix} u_{1} \\\\  u_{2} \\\\ \\end{bmatrix}$\n",
    "\n",
    "$\\mathbf({S - \\lambda I}U) = \\begin{bmatrix} {0} \\\\  {0} \\\\ \\end{bmatrix}$  \n",
    "\n",
    "$\\begin{bmatrix} {14-\\lambda} & {-11} \\\\ {-11} & {23-\\lambda} \\end{bmatrix} \\begin{bmatrix} u_{1} \\\\  u_{2} \\\\ \\end{bmatrix} = \\begin{bmatrix} {0} \\\\  {0} \\\\ \\end{bmatrix}$  \n",
    "\n",
    "$\\begin{bmatrix} {(14-\\lambda)u_{1}} & {-11}u_{2} \\\\ {-11}u_{1} & {(23-\\lambda)u_{2}} \\end{bmatrix}  = \\begin{bmatrix} {0} \\\\  {0} \\\\ \\end{bmatrix}$  \n",
    "\n",
    "$\\mathbf(14-\\lambda) u_{1} - 11 u_{2} = 0$  \n",
    "\n",
    "$\\frac {u{1}}{11} = \\frac {u{2}}{14-\\lambda} = t$  \n",
    "\n",
    "$u_{1} = 11t, \\ u_{2} = (14-\\lambda) t$  \n",
    "\n",
    "$\\mathbf{U_{1}} =  \\begin{bmatrix} {11} \\\\  {14 - \\lambda _{1}} \\\\ \\end{bmatrix}$\n",
    "\n",
    "$\\mathbf- 11 u_{1} + {(23-\\lambda) u_{2}}  = 0$  \n",
    "\n",
    "$\\frac {u{1}}{23-\\lambda} = \\frac {u{2}}{11} = t$ \n",
    "\n",
    "$u_{1} = (23 - \\lambda)t, \\ u_{2} = 11 t$  \n",
    "\n",
    "$\\mathbf{U_{2}} =  \\begin{bmatrix} {23 - \\lambda _{2}} \\\\  {11} \\\\ \\end{bmatrix}$\n",
    "\n",
    "$\\lambda = (30.3849, 6.151) \\ for \\ PC \\ consider \\ largest \\ eigenvalue \\ and \\ for \\ second \\ PC \\ use \\ the \\ next \\ one$"
   ]
  },
  {
   "cell_type": "markdown",
   "id": "3281c841",
   "metadata": {},
   "source": [
    "### Unit Eigenvectors\n",
    "\n",
    "$length \\ of \\ U1 = \\mathbf{|| U_{1} ||} =  \\sqrt{(11^{2} + (14-\\lambda _{1} ^{2})} \\ = 19.7348$  \n",
    "\n",
    "$\\mathbf{e_{1}} =  \\begin{bmatrix} \\frac {{11}}{|| U_{1} ||} \\\\  \\frac {{(14 - \\lambda)}}{|| U_{1} ||} \\end{bmatrix}$  \n",
    "\n",
    "$\\mathbf{e_{1}} =  \\begin{bmatrix} \\frac {{11}}{19.7348} \\\\  \\frac {{(14 - 30.3849)}}{19.7348} \\end{bmatrix}$   \n",
    "\n",
    "$\\mathbf{e_{1}} =  \\begin{bmatrix} 0.5574 \\\\  -0.8303 \\end{bmatrix}$\n",
    "\n",
    "$using \\ \\lambda_{2} = 6.6151 $  \n",
    "\n",
    "$\\mathbf{e_{2}} =  \\begin{bmatrix} 0.8303 \\\\  0.5574 \\end{bmatrix}$ "
   ]
  },
  {
   "cell_type": "markdown",
   "id": "3e2b1d54",
   "metadata": {},
   "source": [
    "### Compute First Principle Component\n",
    "\n",
    "$\\mathbf{e_{1}^{T}}\\begin{bmatrix} (x_1k-x_1\\mu)\\\\  (x_2k-x_2\\mu) \\end{bmatrix}$  \n",
    "\n",
    "$=  \\begin{bmatrix} (0.5574-0.8303)\\end{bmatrix} \\begin{bmatrix} (x_{11}-x_1\\mu)\\\\  (x_{21}-x_2\\mu) \\end{bmatrix}$\n",
    "\n",
    "\n",
    "$=  (0.5574)(x_{11}-x_1\\mu) - 0.8303(x_{21}-x_2\\mu)$  \n",
    "\n",
    "$=  (0.5574)(4-8) - 0.8303(1-8.5)$  \n",
    "\n",
    "$=  -4.30535$\n",
    "\n",
    "$=  (0.5574)(x_{12}-x_1\\mu) - 0.8303(x_{22}-x_2\\mu) \\ = 3.7361$  \n",
    "\n",
    "$=  (0.5574)(x_{13}-x_1\\mu) - 0.8303(x_{23}-x_2\\mu) \\ = 5.6928$  \n",
    "\n",
    "$=  (0.5574)(x_{14}-x_1\\mu) - 0.8303(x_{24}-x_2\\mu) \\ = -5.1238$"
   ]
  },
  {
   "cell_type": "code",
   "execution_count": 26,
   "id": "90476b26",
   "metadata": {},
   "outputs": [
    {
     "name": "stdout",
     "output_type": "stream",
     "text": [
      "| Feature   | Instance 1   |   Instance 2 |   Instance 3 | Instance 4   |\n",
      "|:----------|:-------------|-------------:|-------------:|:-------------|\n",
      "| X1        | 4            |       7      |      13      | 7            |\n",
      "| X2        | 11           |       4      |       5      | 14           |\n",
      "| First PC  | −4.30535     |       3.7361 |       5.6928 | −5.1238      |\n"
     ]
    }
   ],
   "source": [
    "from tabulate import tabulate\n",
    "\n",
    "table_data = [\n",
    "    ['Feature', 'Instance 1', 'Instance 2', 'Instance 3', 'Instance 4'],\n",
    "    ['X1', '4', '7', '13', '7'],\n",
    "    ['X2', '11', '4', '5', '14'], \n",
    "    ['First PC', '−4.30535', '3.7361', '5.6928', '−5.1238']\n",
    "]\n",
    "\n",
    "table = tabulate(table_data, headers='firstrow', tablefmt='pipe')\n",
    "print(table)"
   ]
  },
  {
   "cell_type": "code",
   "execution_count": null,
   "id": "18c5bdf4",
   "metadata": {},
   "outputs": [],
   "source": []
  }
 ],
 "metadata": {
  "kernelspec": {
   "display_name": "Python 3 (ipykernel)",
   "language": "python",
   "name": "python3"
  },
  "language_info": {
   "codemirror_mode": {
    "name": "ipython",
    "version": 3
   },
   "file_extension": ".py",
   "mimetype": "text/x-python",
   "name": "python",
   "nbconvert_exporter": "python",
   "pygments_lexer": "ipython3",
   "version": "3.11.5"
  }
 },
 "nbformat": 4,
 "nbformat_minor": 5
}
